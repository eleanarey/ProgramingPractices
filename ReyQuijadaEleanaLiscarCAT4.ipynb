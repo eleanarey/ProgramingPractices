{
  "nbformat": 4,
  "nbformat_minor": 0,
  "metadata": {
    "colab": {
      "provenance": [],
      "gpuType": "T4",
      "authorship_tag": "ABX9TyM5rrtNT7hga9wiW0/1HEhC",
      "include_colab_link": true
    },
    "kernelspec": {
      "name": "python3",
      "display_name": "Python 3"
    },
    "language_info": {
      "name": "python"
    },
    "accelerator": "GPU"
  },
  "cells": [
    {
      "cell_type": "markdown",
      "metadata": {
        "id": "view-in-github",
        "colab_type": "text"
      },
      "source": [
        "<a href=\"https://colab.research.google.com/github/eleanarey/ProgramingPractices/blob/main/ReyQuijadaEleanaLiscarCAT4.ipynb\" target=\"_parent\"><img src=\"https://colab.research.google.com/assets/colab-badge.svg\" alt=\"Open In Colab\"/></a>"
      ]
    },
    {
      "cell_type": "markdown",
      "source": [
        "# Assignment Description\n",
        "\n",
        "This assignment teaches the student how the CUDA paradigm works by practicing.\n",
        "\n",
        "It leverages the Google Colab platform, which provides GPU-enabled environments.\n",
        "Google Colab is a cloud service running Jupyter notebook environments1. Colab provides natively the interface to other Google services and programming libraries. Although there\n",
        "exists a payment version with more capacity (Colab Pro), the free version will be enough for this assignment.\n",
        "If you are not familiar with the Jupyter-like notebook environment, here you have an excellent tutorial on Google Colab: https://youtu.be/inN8seMm7UI.\n",
        "\n",
        "# 1 CUDA Execution Environment\n",
        "\n",
        "Colaboratory, or “Colab” for short, is a product from Google Research. Colab allows anybody to write and execute arbitrary python code through the browser. Furthermore, there are extensions to run other languages. Particularly, in this assignment, we will use an extension for running CUDA C/C++ code.\n",
        "\n",
        "We can access Google Colab via https://colab.research.google.com (see Figure 1).\n",
        "\n",
        "To begin with, we will create a new notebook File > New notebook (see Figure 3).\n",
        "By default, the environment is not equipped with a GPU. Google Colab allows the use of accelerators in our notebooks. For this assignment, we will enable a GPU:\n",
        "\n",
        "Edit > Notebook settings > T4 GPU > Save (see Figure 4).\n",
        "\n",
        "Notice that changing this setting resets the environment, and cells must be executed again."
      ],
      "metadata": {
        "id": "sT6jUigEbU30"
      }
    },
    {
      "cell_type": "markdown",
      "source": [
        "In the moment of writing this document, Cuda toolkit is already installed in the Colab\n",
        "environment (in previous semesters it was not the case, so we needed to install it manually).\n",
        "We can check the compiler version running the following command within a cell:"
      ],
      "metadata": {
        "id": "Ev0EddbNbJqR"
      }
    },
    {
      "cell_type": "code",
      "execution_count": 2,
      "metadata": {
        "colab": {
          "base_uri": "https://localhost:8080/"
        },
        "id": "V3oTqT8HaKjW",
        "outputId": "0ca2565b-0b30-49dc-c187-d59b3514f2bb"
      },
      "outputs": [
        {
          "output_type": "stream",
          "name": "stdout",
          "text": [
            "nvcc: NVIDIA (R) Cuda compiler driver\n",
            "Copyright (c) 2005-2023 NVIDIA Corporation\n",
            "Built on Tue_Aug_15_22:02:13_PDT_2023\n",
            "Cuda compilation tools, release 12.2, V12.2.140\n",
            "Build cuda_12.2.r12.2/compiler.33191640_0\n"
          ]
        }
      ],
      "source": [
        "! nvcc --version"
      ]
    },
    {
      "cell_type": "markdown",
      "source": [
        "Then, the NVCC plugin can be loaded:"
      ],
      "metadata": {
        "id": "gPK2rT7LbIFq"
      }
    },
    {
      "cell_type": "code",
      "source": [
        "!pip install nvcc4jupyter\n",
        "%load_ext nvcc4jupyter"
      ],
      "metadata": {
        "colab": {
          "base_uri": "https://localhost:8080/"
        },
        "id": "I_dmzC-9ceke",
        "outputId": "f95d15ec-7776-4bcf-82e9-a6e98ba42fae"
      },
      "execution_count": 4,
      "outputs": [
        {
          "output_type": "stream",
          "name": "stdout",
          "text": [
            "Requirement already satisfied: nvcc4jupyter in /usr/local/lib/python3.10/dist-packages (1.2.1)\n",
            "Detected platform \"Colab\". Running its setup...\n",
            "Source files will be saved in \"/tmp/tmpqquyq2hh\".\n"
          ]
        }
      ]
    },
    {
      "cell_type": "markdown",
      "source": [
        "The first line of the cell executes the Linux command that set up the software requirements\n",
        "in the underlying operating system of the host machine that runs the Jupyter environment.\n",
        "The second line loads the CUDA environment in the Jupyter notebook.\n",
        "Once it is finished, we will be able to run the CUDA C/C++ code using the extension\n",
        "%%cuda at the beginning of each cell.\n",
        "For instance, this code implements the typical “hello world”:"
      ],
      "metadata": {
        "id": "DxTGPyUYdzbT"
      }
    },
    {
      "cell_type": "code",
      "source": [
        "%%cuda\n",
        "#include <stdio.h>\n",
        "__global__ void hello_kernel ( void ) {\n",
        "printf ( \"Hello world from the device! \\n\" ) ;\n",
        "}\n",
        "int main ( void ) {\n",
        "printf ( \"Hello world from the host! \\n\" ) ;\n",
        "hello_kernel<<<1,1>>>() ;\n",
        "cudaDeviceSynchronize ( ) ;\n",
        "return 0;\n",
        "}"
      ],
      "metadata": {
        "colab": {
          "base_uri": "https://localhost:8080/"
        },
        "id": "jAqMhyyqd1LF",
        "outputId": "60b843a6-3e75-455f-c847-29e71cb1ef02"
      },
      "execution_count": 9,
      "outputs": [
        {
          "output_type": "stream",
          "name": "stdout",
          "text": [
            "Hello world from the host! \n",
            "Hello world from the device! \n",
            "\n"
          ]
        }
      ]
    }
  ]
}